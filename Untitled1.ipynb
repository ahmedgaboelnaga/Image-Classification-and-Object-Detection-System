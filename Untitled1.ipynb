{
  "cells": [
    {
      "cell_type": "markdown",
      "metadata": {
        "id": "view-in-github",
        "colab_type": "text"
      },
      "source": [
        "<a href=\"https://colab.research.google.com/github/ahmedgaboelnaga/Image-Classification-and-Object-Detection-System/blob/main/Untitled1.ipynb\" target=\"_parent\"><img src=\"https://colab.research.google.com/assets/colab-badge.svg\" alt=\"Open In Colab\"/></a>"
      ]
    },
    {
      "cell_type": "code",
      "execution_count": 2,
      "metadata": {
        "colab": {
          "base_uri": "https://localhost:8080/",
          "height": 125
        },
        "id": "kFJ_56yTmDUu",
        "outputId": "bef699ed-3c36-4f04-e767-b4e1f6430f03"
      },
      "outputs": [
        {
          "output_type": "display_data",
          "data": {
            "text/plain": [
              "<IPython.core.display.HTML object>"
            ],
            "text/html": [
              "\n",
              "     <input type=\"file\" id=\"files-baf50ca5-5670-492b-820b-de243c3f9681\" name=\"files[]\" multiple disabled\n",
              "        style=\"border:none\" />\n",
              "     <output id=\"result-baf50ca5-5670-492b-820b-de243c3f9681\">\n",
              "      Upload widget is only available when the cell has been executed in the\n",
              "      current browser session. Please rerun this cell to enable.\n",
              "      </output>\n",
              "      <script>// Copyright 2017 Google LLC\n",
              "//\n",
              "// Licensed under the Apache License, Version 2.0 (the \"License\");\n",
              "// you may not use this file except in compliance with the License.\n",
              "// You may obtain a copy of the License at\n",
              "//\n",
              "//      http://www.apache.org/licenses/LICENSE-2.0\n",
              "//\n",
              "// Unless required by applicable law or agreed to in writing, software\n",
              "// distributed under the License is distributed on an \"AS IS\" BASIS,\n",
              "// WITHOUT WARRANTIES OR CONDITIONS OF ANY KIND, either express or implied.\n",
              "// See the License for the specific language governing permissions and\n",
              "// limitations under the License.\n",
              "\n",
              "/**\n",
              " * @fileoverview Helpers for google.colab Python module.\n",
              " */\n",
              "(function(scope) {\n",
              "function span(text, styleAttributes = {}) {\n",
              "  const element = document.createElement('span');\n",
              "  element.textContent = text;\n",
              "  for (const key of Object.keys(styleAttributes)) {\n",
              "    element.style[key] = styleAttributes[key];\n",
              "  }\n",
              "  return element;\n",
              "}\n",
              "\n",
              "// Max number of bytes which will be uploaded at a time.\n",
              "const MAX_PAYLOAD_SIZE = 100 * 1024;\n",
              "\n",
              "function _uploadFiles(inputId, outputId) {\n",
              "  const steps = uploadFilesStep(inputId, outputId);\n",
              "  const outputElement = document.getElementById(outputId);\n",
              "  // Cache steps on the outputElement to make it available for the next call\n",
              "  // to uploadFilesContinue from Python.\n",
              "  outputElement.steps = steps;\n",
              "\n",
              "  return _uploadFilesContinue(outputId);\n",
              "}\n",
              "\n",
              "// This is roughly an async generator (not supported in the browser yet),\n",
              "// where there are multiple asynchronous steps and the Python side is going\n",
              "// to poll for completion of each step.\n",
              "// This uses a Promise to block the python side on completion of each step,\n",
              "// then passes the result of the previous step as the input to the next step.\n",
              "function _uploadFilesContinue(outputId) {\n",
              "  const outputElement = document.getElementById(outputId);\n",
              "  const steps = outputElement.steps;\n",
              "\n",
              "  const next = steps.next(outputElement.lastPromiseValue);\n",
              "  return Promise.resolve(next.value.promise).then((value) => {\n",
              "    // Cache the last promise value to make it available to the next\n",
              "    // step of the generator.\n",
              "    outputElement.lastPromiseValue = value;\n",
              "    return next.value.response;\n",
              "  });\n",
              "}\n",
              "\n",
              "/**\n",
              " * Generator function which is called between each async step of the upload\n",
              " * process.\n",
              " * @param {string} inputId Element ID of the input file picker element.\n",
              " * @param {string} outputId Element ID of the output display.\n",
              " * @return {!Iterable<!Object>} Iterable of next steps.\n",
              " */\n",
              "function* uploadFilesStep(inputId, outputId) {\n",
              "  const inputElement = document.getElementById(inputId);\n",
              "  inputElement.disabled = false;\n",
              "\n",
              "  const outputElement = document.getElementById(outputId);\n",
              "  outputElement.innerHTML = '';\n",
              "\n",
              "  const pickedPromise = new Promise((resolve) => {\n",
              "    inputElement.addEventListener('change', (e) => {\n",
              "      resolve(e.target.files);\n",
              "    });\n",
              "  });\n",
              "\n",
              "  const cancel = document.createElement('button');\n",
              "  inputElement.parentElement.appendChild(cancel);\n",
              "  cancel.textContent = 'Cancel upload';\n",
              "  const cancelPromise = new Promise((resolve) => {\n",
              "    cancel.onclick = () => {\n",
              "      resolve(null);\n",
              "    };\n",
              "  });\n",
              "\n",
              "  // Wait for the user to pick the files.\n",
              "  const files = yield {\n",
              "    promise: Promise.race([pickedPromise, cancelPromise]),\n",
              "    response: {\n",
              "      action: 'starting',\n",
              "    }\n",
              "  };\n",
              "\n",
              "  cancel.remove();\n",
              "\n",
              "  // Disable the input element since further picks are not allowed.\n",
              "  inputElement.disabled = true;\n",
              "\n",
              "  if (!files) {\n",
              "    return {\n",
              "      response: {\n",
              "        action: 'complete',\n",
              "      }\n",
              "    };\n",
              "  }\n",
              "\n",
              "  for (const file of files) {\n",
              "    const li = document.createElement('li');\n",
              "    li.append(span(file.name, {fontWeight: 'bold'}));\n",
              "    li.append(span(\n",
              "        `(${file.type || 'n/a'}) - ${file.size} bytes, ` +\n",
              "        `last modified: ${\n",
              "            file.lastModifiedDate ? file.lastModifiedDate.toLocaleDateString() :\n",
              "                                    'n/a'} - `));\n",
              "    const percent = span('0% done');\n",
              "    li.appendChild(percent);\n",
              "\n",
              "    outputElement.appendChild(li);\n",
              "\n",
              "    const fileDataPromise = new Promise((resolve) => {\n",
              "      const reader = new FileReader();\n",
              "      reader.onload = (e) => {\n",
              "        resolve(e.target.result);\n",
              "      };\n",
              "      reader.readAsArrayBuffer(file);\n",
              "    });\n",
              "    // Wait for the data to be ready.\n",
              "    let fileData = yield {\n",
              "      promise: fileDataPromise,\n",
              "      response: {\n",
              "        action: 'continue',\n",
              "      }\n",
              "    };\n",
              "\n",
              "    // Use a chunked sending to avoid message size limits. See b/62115660.\n",
              "    let position = 0;\n",
              "    do {\n",
              "      const length = Math.min(fileData.byteLength - position, MAX_PAYLOAD_SIZE);\n",
              "      const chunk = new Uint8Array(fileData, position, length);\n",
              "      position += length;\n",
              "\n",
              "      const base64 = btoa(String.fromCharCode.apply(null, chunk));\n",
              "      yield {\n",
              "        response: {\n",
              "          action: 'append',\n",
              "          file: file.name,\n",
              "          data: base64,\n",
              "        },\n",
              "      };\n",
              "\n",
              "      let percentDone = fileData.byteLength === 0 ?\n",
              "          100 :\n",
              "          Math.round((position / fileData.byteLength) * 100);\n",
              "      percent.textContent = `${percentDone}% done`;\n",
              "\n",
              "    } while (position < fileData.byteLength);\n",
              "  }\n",
              "\n",
              "  // All done.\n",
              "  yield {\n",
              "    response: {\n",
              "      action: 'complete',\n",
              "    }\n",
              "  };\n",
              "}\n",
              "\n",
              "scope.google = scope.google || {};\n",
              "scope.google.colab = scope.google.colab || {};\n",
              "scope.google.colab._files = {\n",
              "  _uploadFiles,\n",
              "  _uploadFilesContinue,\n",
              "};\n",
              "})(self);\n",
              "</script> "
            ]
          },
          "metadata": {}
        },
        {
          "output_type": "stream",
          "name": "stdout",
          "text": [
            "Saving kaggle.json to kaggle.json\n",
            "Dataset URL: https://www.kaggle.com/datasets/fernando2rad/brain-tumor-mri-images-44c\n",
            "License(s): Community Data License Agreement - Sharing - Version 1.0\n",
            "Dataset split completed. You can now load data using ImageDataGenerator or similar tools.\n"
          ]
        }
      ],
      "source": [
        "\n",
        "!pip install -q kaggle\n",
        "\n",
        "from google.colab import files\n",
        "files.upload()\n",
        "\n",
        "!mkdir -p ~/.kaggle\n",
        "!cp kaggle.json ~/.kaggle/\n",
        "!chmod 600 ~/.kaggle/kaggle.json\n",
        "\n",
        "!kaggle datasets download -d fernando2rad/brain-tumor-mri-images-44c\n",
        "\n",
        "!unzip -q brain-tumor-mri-images-44c.zip -d brain_tumor_data\n",
        "\n",
        "import os\n",
        "import shutil\n",
        "from sklearn.model_selection import train_test_split\n",
        "\n",
        "data_dir = 'brain_tumor_data'\n",
        "classes = os.listdir(data_dir)\n",
        "\n",
        "os.makedirs('brain_tumor_split/train', exist_ok=True)\n",
        "os.makedirs('brain_tumor_split/test', exist_ok=True)\n",
        "\n",
        "for cls in classes:\n",
        "    cls_path = os.path.join(data_dir, cls)\n",
        "    images = os.listdir(cls_path)\n",
        "\n",
        "    train_imgs, test_imgs = train_test_split(images, test_size=0.2, random_state=42)\n",
        "\n",
        "    os.makedirs(f'brain_tumor_split/train/{cls}', exist_ok=True)\n",
        "    os.makedirs(f'brain_tumor_split/test/{cls}', exist_ok=True)\n",
        "\n",
        "    for img in train_imgs:\n",
        "        shutil.copy(os.path.join(cls_path, img), f'brain_tumor_split/train/{cls}/{img}')\n",
        "    for img in test_imgs:\n",
        "        shutil.copy(os.path.join(cls_path, img), f'brain_tumor_split/test/{cls}/{img}')\n",
        "\n",
        "print(\"Dataset split completed. You can now load data using ImageDataGenerator or similar tools.\")\n"
      ]
    },
    {
      "cell_type": "markdown",
      "metadata": {
        "id": "dS7iWOea5Oec"
      },
      "source": [
        "Imports"
      ]
    },
    {
      "cell_type": "code",
      "execution_count": 3,
      "metadata": {
        "id": "sn4hbmEi5QIE"
      },
      "outputs": [],
      "source": [
        "import torch\n",
        "import torch.nn as nn\n",
        "from torchvision import models, transforms, datasets\n",
        "from torch.utils.data import DataLoader\n",
        "import os\n",
        "from sklearn.metrics import classification_report\n",
        "import matplotlib.pyplot as plt\n",
        "from sklearn.metrics import classification_report, accuracy_score"
      ]
    },
    {
      "cell_type": "markdown",
      "metadata": {
        "id": "HkyamCXE5Rqj"
      },
      "source": [
        "Choosing device (check if GPU is avb else use CPU"
      ]
    },
    {
      "cell_type": "code",
      "execution_count": 4,
      "metadata": {
        "colab": {
          "base_uri": "https://localhost:8080/"
        },
        "id": "F517DDDJ5aHw",
        "outputId": "1ef7dd6a-ccfb-45a8-e7e6-f3fb5759f9d7"
      },
      "outputs": [
        {
          "output_type": "stream",
          "name": "stdout",
          "text": [
            "Using device: cpu\n"
          ]
        }
      ],
      "source": [
        "device = torch.device(\"cuda\" if torch.cuda.is_available() else \"cpu\")\n",
        "print(\"Using device:\", device)"
      ]
    },
    {
      "cell_type": "markdown",
      "metadata": {
        "id": "jGaKrO8y65-Z"
      },
      "source": [
        "Setting DS directory from train and test split"
      ]
    },
    {
      "cell_type": "code",
      "execution_count": 5,
      "metadata": {
        "id": "k1A84Mdj7D_4"
      },
      "outputs": [],
      "source": [
        "data_dir = \"./brain_tumor_split\""
      ]
    },
    {
      "cell_type": "markdown",
      "metadata": {
        "id": "uKsKXwQQ7HRy"
      },
      "source": [
        "Image preprocessing"
      ]
    },
    {
      "cell_type": "code",
      "execution_count": 6,
      "metadata": {
        "id": "WdW938SY7J2Q"
      },
      "outputs": [],
      "source": [
        "transform = transforms.Compose([\n",
        "    transforms.Resize((224, 224)),\n",
        "    transforms.Grayscale(num_output_channels=3),  # converting 1(grayscale) into 3(RGB)\n",
        "    transforms.ToTensor(),\n",
        "    transforms.Normalize([0.485, 0.456, 0.406],\n",
        "                         [0.229, 0.224, 0.225])\n",
        "])\n",
        " #normalizing to make all pixel values to be centered around 0 with a standard deviation of 1"
      ]
    },
    {
      "cell_type": "markdown",
      "metadata": {
        "id": "_5rF7hf69CFW"
      },
      "source": [
        "Loading dataset"
      ]
    },
    {
      "cell_type": "code",
      "execution_count": 7,
      "metadata": {
        "colab": {
          "base_uri": "https://localhost:8080/"
        },
        "id": "WXO1zUju9EUb",
        "outputId": "5a23eea6-7df3-4198-94dc-c51376513a39"
      },
      "outputs": [
        {
          "output_type": "stream",
          "name": "stdout",
          "text": [
            "Classes: ['Astrocitoma T1', 'Astrocitoma T1C+', 'Astrocitoma T2', 'Carcinoma T1', 'Carcinoma T1C+', 'Carcinoma T2', 'Ependimoma T1', 'Ependimoma T1C+', 'Ependimoma T2', 'Ganglioglioma T1', 'Ganglioglioma T1C+', 'Ganglioglioma T2', 'Germinoma T1', 'Germinoma T1C+', 'Germinoma T2', 'Glioblastoma T1', 'Glioblastoma T1C+', 'Glioblastoma T2', 'Granuloma T1', 'Granuloma T1C+', 'Granuloma T2', 'Meduloblastoma T1', 'Meduloblastoma T1C+', 'Meduloblastoma T2', 'Meningioma T1', 'Meningioma T1C+', 'Meningioma T2', 'Neurocitoma T1', 'Neurocitoma T1C+', 'Neurocitoma T2', 'Oligodendroglioma T1', 'Oligodendroglioma T1C+', 'Oligodendroglioma T2', 'Papiloma T1', 'Papiloma T1C+', 'Papiloma T2', 'Schwannoma T1', 'Schwannoma T1C+', 'Schwannoma T2', 'Tuberculoma T1', 'Tuberculoma T1C+', 'Tuberculoma T2', '_NORMAL T1', '_NORMAL T2']\n"
          ]
        }
      ],
      "source": [
        "train_dataset = datasets.ImageFolder(os.path.join(data_dir, 'train'), transform=transform)\n",
        "test_dataset = datasets.ImageFolder(os.path.join(data_dir, 'test'), transform=transform)\n",
        "#data loaders\n",
        "train_loader = DataLoader(train_dataset, batch_size=32, shuffle=True)\n",
        "test_loader = DataLoader(test_dataset, batch_size=32, shuffle=False)\n",
        "\n",
        "class_names = train_dataset.classes\n",
        "print(\"Classes:\", class_names)"
      ]
    },
    {
      "cell_type": "markdown",
      "metadata": {
        "id": "RimA57qT9ost"
      },
      "source": [
        "PreTrained model (DenseNet-121 & DenseNet-169)"
      ]
    },
    {
      "cell_type": "code",
      "execution_count": 8,
      "metadata": {
        "id": "E3PVbW__9vLW"
      },
      "outputs": [],
      "source": [
        "def create_densenet_model(variant='densenet121', num_classes=2):\n",
        "    if variant == 'densenet121':\n",
        "        model = models.densenet121(pretrained=True)\n",
        "    elif variant == 'densenet169':\n",
        "        model = models.densenet169(pretrained=True)\n",
        "    else:\n",
        "        raise ValueError(\"Only 'densenet121' and 'densenet169' are supported.\")\n",
        "\n",
        "    for param in model.parameters():\n",
        "        param.requires_grad = False\n",
        "    num_classes = len(train_dataset.classes)\n",
        "    num_ftrs = model.classifier.in_features\n",
        "    model.classifier = nn.Sequential(\n",
        "        nn.Linear(num_ftrs, 512),\n",
        "        nn.ReLU(),\n",
        "        nn.Dropout(0.4),\n",
        "        nn.Linear(512, num_classes)\n",
        "    )\n",
        "    return model.to(device)\n"
      ]
    },
    {
      "cell_type": "markdown",
      "metadata": {
        "id": "YmW_F26y_PZr"
      },
      "source": [
        "Training the model with 5 epochs"
      ]
    },
    {
      "cell_type": "code",
      "execution_count": 9,
      "metadata": {
        "id": "GGW-9yXw_Sdy"
      },
      "outputs": [],
      "source": [
        "def train_model(model, train_loader, epochs=5):\n",
        "    criterion = nn.CrossEntropyLoss()\n",
        "    optimizer = torch.optim.Adam(model.classifier.parameters(), lr=0.001)\n",
        "    #using ADAM algo with a learning rate of 0.001 (ideal no with adam)\n",
        "\n",
        "    for epoch in range(epochs):\n",
        "        model.train()\n",
        "        total_loss = 0\n",
        "        for images, labels in train_loader:\n",
        "            images, labels = images.to(device), labels.to(device)\n",
        "            outputs = model(images)\n",
        "            loss = criterion(outputs, labels)\n",
        "            optimizer.zero_grad()\n",
        "            loss.backward()\n",
        "            optimizer.step()\n",
        "            total_loss += loss.item()\n",
        "\n",
        "        print(f\"Epoch [{epoch+1}/{epochs}], Loss: {total_loss:.4f}\")\n",
        "    return model\n"
      ]
    },
    {
      "cell_type": "markdown",
      "metadata": {
        "id": "cQoDqXB3ALYz"
      },
      "source": [
        "Models evaluation"
      ]
    },
    {
      "cell_type": "code",
      "execution_count": 10,
      "metadata": {
        "id": "aY7gkpnzAO67"
      },
      "outputs": [],
      "source": [
        "def evaluate_model(model, test_loader):\n",
        "    model.eval()\n",
        "    y_true = []\n",
        "    y_pred = []\n",
        "\n",
        "    with torch.no_grad():\n",
        "        for images, labels in test_loader:\n",
        "            images = images.to(device)\n",
        "            outputs = model(images)\n",
        "            _, preds = torch.max(outputs, 1)\n",
        "            y_true.extend(labels.numpy())\n",
        "            y_pred.extend(preds.cpu().numpy())\n",
        "    acc = accuracy_score(y_true, y_pred)\n",
        "    print(f\"\\nAccuracy: {acc * 100:.2f}%\")\n",
        "\n",
        "    print(classification_report(y_true, y_pred, target_names=class_names))"
      ]
    },
    {
      "cell_type": "markdown",
      "metadata": {
        "id": "BRAG-Va1Blkf"
      },
      "source": [
        "Model DenseNet-121 callings for training and testing"
      ]
    },
    {
      "cell_type": "code",
      "execution_count": 11,
      "metadata": {
        "colab": {
          "base_uri": "https://localhost:8080/"
        },
        "id": "JkZtbXcOBsGF",
        "outputId": "0a9081b8-e029-48a6-c98c-0d5dccc7d610"
      },
      "outputs": [
        {
          "output_type": "stream",
          "name": "stdout",
          "text": [
            "\n",
            "Training DenseNet-121...\n"
          ]
        },
        {
          "output_type": "stream",
          "name": "stderr",
          "text": [
            "/usr/local/lib/python3.11/dist-packages/torchvision/models/_utils.py:208: UserWarning: The parameter 'pretrained' is deprecated since 0.13 and may be removed in the future, please use 'weights' instead.\n",
            "  warnings.warn(\n",
            "/usr/local/lib/python3.11/dist-packages/torchvision/models/_utils.py:223: UserWarning: Arguments other than a weight enum or `None` for 'weights' are deprecated since 0.13 and may be removed in the future. The current behavior is equivalent to passing `weights=DenseNet121_Weights.IMAGENET1K_V1`. You can also use `weights=DenseNet121_Weights.DEFAULT` to get the most up-to-date weights.\n",
            "  warnings.warn(msg)\n",
            "Downloading: \"https://download.pytorch.org/models/densenet121-a639ec97.pth\" to /root/.cache/torch/hub/checkpoints/densenet121-a639ec97.pth\n",
            "100%|██████████| 30.8M/30.8M [00:00<00:00, 74.3MB/s]\n"
          ]
        },
        {
          "output_type": "stream",
          "name": "stdout",
          "text": [
            "Epoch [1/5], Loss: 310.2932\n",
            "Epoch [2/5], Loss: 206.6240\n",
            "Epoch [3/5], Loss: 166.4488\n",
            "Epoch [4/5], Loss: 142.9422\n",
            "Epoch [5/5], Loss: 125.8532\n",
            "\n",
            "Evaluation: DenseNet-121\n",
            "\n",
            "Accuracy: 69.07%\n",
            "                        precision    recall  f1-score   support\n",
            "\n",
            "        Astrocitoma T1       0.87      0.75      0.81        36\n",
            "      Astrocitoma T1C+       0.72      0.66      0.69        47\n",
            "        Astrocitoma T2       0.64      0.40      0.49        35\n",
            "          Carcinoma T1       1.00      0.86      0.92        14\n",
            "        Carcinoma T1C+       0.96      0.96      0.96        23\n",
            "          Carcinoma T2       1.00      0.67      0.80        15\n",
            "         Ependimoma T1       1.00      0.11      0.20         9\n",
            "       Ependimoma T1C+       0.80      0.40      0.53        10\n",
            "         Ependimoma T2       0.00      0.00      0.00        12\n",
            "      Ganglioglioma T1       1.00      0.50      0.67         4\n",
            "    Ganglioglioma T1C+       1.00      0.50      0.67         4\n",
            "      Ganglioglioma T2       1.00      0.40      0.57         5\n",
            "          Germinoma T1       0.50      0.17      0.25         6\n",
            "        Germinoma T1C+       0.75      0.38      0.50         8\n",
            "          Germinoma T2       0.00      0.00      0.00         7\n",
            "       Glioblastoma T1       1.00      0.55      0.71        11\n",
            "     Glioblastoma T1C+       0.94      0.79      0.86        19\n",
            "       Glioblastoma T2       0.67      0.36      0.47        11\n",
            "          Granuloma T1       0.00      0.00      0.00         6\n",
            "        Granuloma T1C+       0.44      0.57      0.50         7\n",
            "          Granuloma T2       0.00      0.00      0.00         4\n",
            "     Meduloblastoma T1       1.00      0.80      0.89         5\n",
            "   Meduloblastoma T1C+       0.80      0.86      0.83        14\n",
            "     Meduloblastoma T2       1.00      0.22      0.36         9\n",
            "         Meningioma T1       0.54      0.89      0.67        55\n",
            "       Meningioma T1C+       0.69      0.80      0.74        74\n",
            "         Meningioma T2       0.47      0.83      0.60        47\n",
            "        Neurocitoma T1       1.00      0.73      0.84        26\n",
            "      Neurocitoma T1C+       0.95      0.91      0.93        45\n",
            "        Neurocitoma T2       0.86      0.29      0.43        21\n",
            "  Oligodendroglioma T1       0.88      0.83      0.86        18\n",
            "Oligodendroglioma T1C+       0.92      0.80      0.86        15\n",
            "  Oligodendroglioma T2       0.55      0.43      0.48        14\n",
            "           Papiloma T1       0.55      0.43      0.48        14\n",
            "         Papiloma T1C+       0.93      0.64      0.76        22\n",
            "           Papiloma T2       1.00      0.08      0.14        13\n",
            "         Schwannoma T1       0.65      0.87      0.74        30\n",
            "       Schwannoma T1C+       0.88      0.72      0.79        39\n",
            "         Schwannoma T2       0.41      0.72      0.52        25\n",
            "        Tuberculoma T1       0.25      0.33      0.29         6\n",
            "      Tuberculoma T1C+       0.80      0.47      0.59        17\n",
            "        Tuberculoma T2       0.67      0.29      0.40         7\n",
            "            _NORMAL T1       0.68      0.98      0.81        51\n",
            "            _NORMAL T2       0.58      0.96      0.72        55\n",
            "\n",
            "              accuracy                           0.69       915\n",
            "             macro avg       0.71      0.54      0.58       915\n",
            "          weighted avg       0.72      0.69      0.67       915\n",
            "\n"
          ]
        },
        {
          "output_type": "stream",
          "name": "stderr",
          "text": [
            "/usr/local/lib/python3.11/dist-packages/sklearn/metrics/_classification.py:1565: UndefinedMetricWarning: Precision is ill-defined and being set to 0.0 in labels with no predicted samples. Use `zero_division` parameter to control this behavior.\n",
            "  _warn_prf(average, modifier, f\"{metric.capitalize()} is\", len(result))\n",
            "/usr/local/lib/python3.11/dist-packages/sklearn/metrics/_classification.py:1565: UndefinedMetricWarning: Precision is ill-defined and being set to 0.0 in labels with no predicted samples. Use `zero_division` parameter to control this behavior.\n",
            "  _warn_prf(average, modifier, f\"{metric.capitalize()} is\", len(result))\n",
            "/usr/local/lib/python3.11/dist-packages/sklearn/metrics/_classification.py:1565: UndefinedMetricWarning: Precision is ill-defined and being set to 0.0 in labels with no predicted samples. Use `zero_division` parameter to control this behavior.\n",
            "  _warn_prf(average, modifier, f\"{metric.capitalize()} is\", len(result))\n"
          ]
        }
      ],
      "source": [
        "print(\"\\nTraining DenseNet-121...\")\n",
        "model_d121 = create_densenet_model('densenet121')\n",
        "model_d121 = train_model(model_d121, train_loader)\n",
        "print(\"\\nEvaluation: DenseNet-121\")\n",
        "evaluate_model(model_d121, test_loader)"
      ]
    },
    {
      "cell_type": "markdown",
      "metadata": {
        "id": "JdoPXZiVEajQ"
      },
      "source": [
        "Model DenseNet-169 callings for training and testing"
      ]
    },
    {
      "cell_type": "code",
      "execution_count": null,
      "metadata": {
        "colab": {
          "background_save": true,
          "base_uri": "https://localhost:8080/"
        },
        "id": "DJLxFYZrEkc4",
        "outputId": "e857ad56-9882-4a2b-c59e-c0b4b1c41aeb"
      },
      "outputs": [
        {
          "name": "stdout",
          "output_type": "stream",
          "text": [
            "\n",
            "Training DenseNet-169: \n"
          ]
        },
        {
          "name": "stderr",
          "output_type": "stream",
          "text": [
            "/usr/local/lib/python3.11/dist-packages/torchvision/models/_utils.py:208: UserWarning: The parameter 'pretrained' is deprecated since 0.13 and may be removed in the future, please use 'weights' instead.\n",
            "  warnings.warn(\n",
            "/usr/local/lib/python3.11/dist-packages/torchvision/models/_utils.py:223: UserWarning: Arguments other than a weight enum or `None` for 'weights' are deprecated since 0.13 and may be removed in the future. The current behavior is equivalent to passing `weights=DenseNet169_Weights.IMAGENET1K_V1`. You can also use `weights=DenseNet169_Weights.DEFAULT` to get the most up-to-date weights.\n",
            "  warnings.warn(msg)\n",
            "Downloading: \"https://download.pytorch.org/models/densenet169-b2777c0a.pth\" to /root/.cache/torch/hub/checkpoints/densenet169-b2777c0a.pth\n",
            "100%|██████████| 54.7M/54.7M [00:00<00:00, 143MB/s]\n"
          ]
        },
        {
          "name": "stdout",
          "output_type": "stream",
          "text": [
            "Epoch [1/5], Loss: 305.8746\n",
            "Epoch [2/5], Loss: 190.6497\n",
            "Epoch [3/5], Loss: 151.3883\n",
            "Epoch [4/5], Loss: 127.5506\n",
            "Epoch [5/5], Loss: 106.5298\n",
            "\n",
            "Evaluation: DenseNet-169\n",
            "\n",
            "Accuracy: 73.77%\n",
            "                        precision    recall  f1-score   support\n",
            "\n",
            "        Astrocitoma T1       0.74      0.72      0.73        36\n",
            "      Astrocitoma T1C+       0.78      0.62      0.69        47\n",
            "        Astrocitoma T2       0.56      0.57      0.56        35\n",
            "          Carcinoma T1       0.80      0.86      0.83        14\n",
            "        Carcinoma T1C+       0.96      0.96      0.96        23\n",
            "          Carcinoma T2       1.00      0.67      0.80        15\n",
            "         Ependimoma T1       0.56      0.56      0.56         9\n",
            "       Ependimoma T1C+       0.67      0.40      0.50        10\n",
            "         Ependimoma T2       0.36      0.42      0.38        12\n",
            "      Ganglioglioma T1       0.40      0.50      0.44         4\n",
            "    Ganglioglioma T1C+       1.00      0.75      0.86         4\n",
            "      Ganglioglioma T2       0.00      0.00      0.00         5\n",
            "          Germinoma T1       0.50      0.67      0.57         6\n",
            "        Germinoma T1C+       1.00      0.62      0.77         8\n",
            "          Germinoma T2       0.75      0.43      0.55         7\n",
            "       Glioblastoma T1       0.88      0.64      0.74        11\n",
            "     Glioblastoma T1C+       0.84      0.84      0.84        19\n",
            "       Glioblastoma T2       0.33      0.36      0.35        11\n",
            "          Granuloma T1       0.86      1.00      0.92         6\n",
            "        Granuloma T1C+       1.00      0.43      0.60         7\n",
            "          Granuloma T2       0.00      0.00      0.00         4\n",
            "     Meduloblastoma T1       0.83      1.00      0.91         5\n",
            "   Meduloblastoma T1C+       0.86      0.86      0.86        14\n",
            "     Meduloblastoma T2       0.70      0.78      0.74         9\n",
            "         Meningioma T1       0.78      0.78      0.78        55\n",
            "       Meningioma T1C+       0.69      0.92      0.79        74\n",
            "         Meningioma T2       0.66      0.53      0.59        47\n",
            "        Neurocitoma T1       0.96      0.85      0.90        26\n",
            "      Neurocitoma T1C+       0.91      0.96      0.93        45\n",
            "        Neurocitoma T2       0.67      0.57      0.62        21\n",
            "  Oligodendroglioma T1       0.94      0.83      0.88        18\n",
            "Oligodendroglioma T1C+       1.00      0.80      0.89        15\n",
            "  Oligodendroglioma T2       0.55      0.43      0.48        14\n",
            "           Papiloma T1       0.53      0.57      0.55        14\n",
            "         Papiloma T1C+       0.56      0.82      0.67        22\n",
            "           Papiloma T2       0.53      0.62      0.57        13\n",
            "         Schwannoma T1       1.00      0.70      0.82        30\n",
            "       Schwannoma T1C+       0.83      0.87      0.85        39\n",
            "         Schwannoma T2       0.80      0.48      0.60        25\n",
            "        Tuberculoma T1       0.00      0.00      0.00         6\n",
            "      Tuberculoma T1C+       1.00      0.71      0.83        17\n",
            "        Tuberculoma T2       0.00      0.00      0.00         7\n",
            "            _NORMAL T1       0.81      1.00      0.89        51\n",
            "            _NORMAL T2       0.59      1.00      0.74        55\n",
            "\n",
            "              accuracy                           0.74       915\n",
            "             macro avg       0.69      0.64      0.65       915\n",
            "          weighted avg       0.74      0.74      0.73       915\n",
            "\n"
          ]
        },
        {
          "name": "stderr",
          "output_type": "stream",
          "text": [
            "/usr/local/lib/python3.11/dist-packages/sklearn/metrics/_classification.py:1565: UndefinedMetricWarning: Precision is ill-defined and being set to 0.0 in labels with no predicted samples. Use `zero_division` parameter to control this behavior.\n",
            "  _warn_prf(average, modifier, f\"{metric.capitalize()} is\", len(result))\n",
            "/usr/local/lib/python3.11/dist-packages/sklearn/metrics/_classification.py:1565: UndefinedMetricWarning: Precision is ill-defined and being set to 0.0 in labels with no predicted samples. Use `zero_division` parameter to control this behavior.\n",
            "  _warn_prf(average, modifier, f\"{metric.capitalize()} is\", len(result))\n",
            "/usr/local/lib/python3.11/dist-packages/sklearn/metrics/_classification.py:1565: UndefinedMetricWarning: Precision is ill-defined and being set to 0.0 in labels with no predicted samples. Use `zero_division` parameter to control this behavior.\n",
            "  _warn_prf(average, modifier, f\"{metric.capitalize()} is\", len(result))\n"
          ]
        }
      ],
      "source": [
        "print(\"\\nTraining DenseNet-169: \")\n",
        "model_d169 = create_densenet_model('densenet169')\n",
        "model_d169 = train_model(model_d169, train_loader)\n",
        "print(\"\\nEvaluation: DenseNet-169\")\n",
        "evaluate_model(model_d169, test_loader)"
      ]
    }
  ],
  "metadata": {
    "colab": {
      "provenance": [],
      "authorship_tag": "ABX9TyOjs8ppTMc3Kri7Ht+ibX9U",
      "include_colab_link": true
    },
    "kernelspec": {
      "display_name": "Python 3",
      "name": "python3"
    },
    "language_info": {
      "name": "python"
    }
  },
  "nbformat": 4,
  "nbformat_minor": 0
}